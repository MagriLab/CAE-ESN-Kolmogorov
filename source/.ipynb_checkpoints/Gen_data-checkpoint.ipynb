{
 "cells": [
  {
   "cell_type": "code",
   "execution_count": null,
   "metadata": {},
   "outputs": [],
   "source": [
    "import numpy as np\n",
    "import torch\n",
    "from kolsol.torch.solver import KolSol\n",
    "import h5py\n",
    "np.seterr(divide='ignore')\n",
    "\n",
    "DEVICE = torch.device('cuda' if torch.cuda.is_available() else 'cpu')\n",
    "print(DEVICE)"
   ]
  },
  {
   "cell_type": "code",
   "execution_count": null,
   "metadata": {},
   "outputs": [],
   "source": [
    "##### Integration parameters\n",
    "\n",
    "Re = 30. #Reynolds number\n",
    "nk = 32  #number of Fourier modes in each direction\n",
    "nf = 4   #forcing wave number\n",
    "\n",
    "#initiate solver\n",
    "ks = KolSol(nk=nk, nf=nf, re=Re, ndim=2, device=DEVICE)\n",
    "\n",
    "#initial random condition\n",
    "u_hat = ks.random_field(magnitude=10.0, sigma=2.0, k_offset=[0, 3])\n",
    "\n",
    "dt     = 0.01 #time step\n",
    "skipps = 10   #upsample \n",
    "\n",
    "t_skip = 100 #initial transient\n",
    "N_skip = int(t_skip/dt) \n",
    "\n",
    "t_fin  = 100000 + t_skip #length of integration\n",
    "N_fin  = int(t_fin/dt)\n",
    "\n",
    "\n",
    "Phys_size     = 48  #size of physical flowfield\n",
    "mult          = (nk*2+1)//Phys_size + 1\n",
    "Phys_size1    = Phys_size*mult #grid larger than nk*2+1 needed for inverse fourier transform\n",
    "                               #trick to have grid of size Phys_size x Phys_size independently on nk\n",
    "\n",
    "#initialize flowfield time series vector\n",
    "u_physical    = torch.empty((N_fin//skipps,Phys_size,Phys_size,u_hat.shape[2]))\n",
    "\n",
    "u_fourier     = torch.tensor(u_hat.cpu().numpy(), dtype=torch.complex64, device=DEVICE)\n",
    "u_physical[0] = ks.fourier_to_phys(u_fourier,Phys_size1)[::mult,::mult]"
   ]
  },
  {
   "cell_type": "code",
   "execution_count": null,
   "metadata": {},
   "outputs": [],
   "source": [
    "def RK4(q0,dt,N,func):\n",
    "    ''' 4th order RK for autonomous systems described by func '''\n",
    "\n",
    "    for i in range(N):\n",
    "\n",
    "        k1 = dt * func(q0)\n",
    "        k2 = dt * func(q0 + k1/2)\n",
    "        k3 = dt * func(q0 + k2/2)\n",
    "        k4 = dt * func(q0 + k3)\n",
    "\n",
    "        q0 = q0 + (k1 + 2*k2 + 2*k3 + k4)/6\n",
    "\n",
    "    return  q0"
   ]
  },
  {
   "cell_type": "code",
   "execution_count": null,
   "metadata": {},
   "outputs": [],
   "source": [
    "#### integration in time\n",
    "for i in range(1,N_fin//skipps):\n",
    "    \n",
    "    u_fourier     = RK4(u_fourier,dt,skipps,ks.dynamics)        \n",
    "    u_physical[i] = ks.fourier_to_phys(u_fourier,Phys_size1)[::mult,::mult]\n",
    "        \n",
    "    if (i%(N_fin//skipps//10)) == 0: print(i/(N_fin//skipps))"
   ]
  },
  {
   "cell_type": "code",
   "execution_count": null,
   "metadata": {},
   "outputs": [],
   "source": [
    "#save time series\n",
    "fln = '/data/ar994/Python/data/Kolmogorov/Kolmogorov_' + str(dt*skipps) + '_' + str(Phys_size) + \\\n",
    "       '_' + str(Re) + '_' + str(t_fin) + '_'  +str(nk) + '.h5'\n",
    "hf  = h5py.File(fln,'w')\n",
    "hf.create_dataset('U'   ,data=u_physical[N_skip//skipps::].cpu().detach().numpy() , dtype=np.float32)\n",
    "hf.close(), \n",
    "print(fln)"
   ]
  },
  {
   "cell_type": "code",
   "execution_count": null,
   "metadata": {},
   "outputs": [],
   "source": []
  }
 ],
 "metadata": {
  "kernelspec": {
   "display_name": "Python 3",
   "language": "python",
   "name": "python3"
  },
  "language_info": {
   "codemirror_mode": {
    "name": "ipython",
    "version": 3
   },
   "file_extension": ".py",
   "mimetype": "text/x-python",
   "name": "python",
   "nbconvert_exporter": "python",
   "pygments_lexer": "ipython3",
   "version": "3.8.10"
  }
 },
 "nbformat": 4,
 "nbformat_minor": 4
}
